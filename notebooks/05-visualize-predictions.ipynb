{
 "cells": [
  {
   "cell_type": "code",
   "execution_count": null,
   "metadata": {},
   "outputs": [],
   "source": [
    "%load_ext autoreload\n",
    "%autoreload 2\n",
    "\n",
    "import sys\n",
    "from pathlib import Path\n",
    "import geopandas as gpd\n",
    "import pandas as pd\n",
    "import folium\n",
    "import json\n",
    "from loguru import logger"
   ]
  },
  {
   "cell_type": "code",
   "execution_count": null,
   "metadata": {},
   "outputs": [],
   "source": [
    "sys.path.append(\"../\")  # include parent directory\n",
    "from src.config_utils import build_kwargs_from_config"
   ]
  },
  {
   "cell_type": "markdown",
   "metadata": {},
   "source": [
    "# Visualize Predictions\n",
    "\n",
    "This notebook creates a folium map of the model predicted polygons along with the ground truth annotations\n",
    "\n",
    "## Input\n",
    "- Predicted Polygons (gpkg file)\n",
    "- Annotated Polygons (gpkg file)\n",
    "\n",
    "## Output\n",
    "- Interactive Folium map (html file)"
   ]
  },
  {
   "cell_type": "markdown",
   "metadata": {},
   "source": [
    "## Set Input Parameters"
   ]
  },
  {
   "cell_type": "code",
   "execution_count": null,
   "metadata": {},
   "outputs": [],
   "source": [
    "DATA_PATH = Path(\"../data\")\n",
    "CONFIG_PATH = Path(\"../config\")\n",
    "\n",
    "CONFIG_FPATH = CONFIG_PATH / \"pond_config.yaml\"\n",
    "\n",
    "ANNOTATIONS_GPKG_FPATH = DATA_PATH / \"training_polygons.gpkg\"\n",
    "PLANET_CONFIG_FPATH = CONFIG_PATH / \"secrets\" / \"planet_config.json\"\n",
    "\n",
    "# we need to simplify the polygons for the folium map for performance\n",
    "SIMPLIFY_M = 4\n",
    "\n",
    "# Select country (to speed up map)\n",
    "# COUNTRY = 'Indonesia'\n",
    "COUNTRY = \"Philippines\""
   ]
  },
  {
   "cell_type": "code",
   "execution_count": null,
   "metadata": {},
   "outputs": [],
   "source": [
    "kwargs_dict = build_kwargs_from_config(DATA_PATH, CONFIG_FPATH)"
   ]
  },
  {
   "cell_type": "code",
   "execution_count": null,
   "metadata": {},
   "outputs": [],
   "source": [
    "MISC_KWARGS = kwargs_dict[\"misc_kwargs\"]\n",
    "PARENT_DIR = MISC_KWARGS[\"parent_dir\"]"
   ]
  },
  {
   "cell_type": "code",
   "execution_count": null,
   "metadata": {},
   "outputs": [],
   "source": [
    "PRED_POLYGONS_FPATH = DATA_PATH / PARENT_DIR / \"pred_polygons.gpkg\"\n",
    "FOLIUM_MAP_FPATH = (\n",
    "    DATA_PATH / PARENT_DIR / f\"{COUNTRY}_predicted_polygons_map_folium.html\"\n",
    ")\n",
    "PRED_POLYGONS_FPATH, FOLIUM_MAP_FPATH"
   ]
  },
  {
   "cell_type": "markdown",
   "metadata": {},
   "source": [
    "## Load Planet Credentials for NICFI basemap"
   ]
  },
  {
   "cell_type": "code",
   "execution_count": null,
   "metadata": {},
   "outputs": [],
   "source": [
    "with open(str(PLANET_CONFIG_FPATH)) as file:\n",
    "    planet_config = json.load(file)\n",
    "planet_xyz_url = \"https://tiles3.planet.com/basemaps/v1/planet-tiles/planet_medres_visual_2022-07_mosaic/gmap/{z}/{x}/{y}.png?api_key=\"\n",
    "planet_xyz_url = planet_xyz_url + planet_config[\"PLANET_API_KEY\"]"
   ]
  },
  {
   "cell_type": "markdown",
   "metadata": {},
   "source": [
    "## Load the annotation polygons and the model prediction polygons"
   ]
  },
  {
   "cell_type": "code",
   "execution_count": null,
   "metadata": {},
   "outputs": [],
   "source": [
    "annotations = gpd.read_file(ANNOTATIONS_GPKG_FPATH)\n",
    "usecols = [\"id\", \"label\", \"geometry\"]\n",
    "\n",
    "# drop the unsure class\n",
    "bool_mask = annotations[\"label\"] == \"unsure\"\n",
    "logger.info(f\"Removing {bool_mask.sum():,} rows with the unsure label\")\n",
    "annotations = annotations.loc[~bool_mask, usecols]\n",
    "\n",
    "annotations.head()"
   ]
  },
  {
   "cell_type": "code",
   "execution_count": null,
   "metadata": {},
   "outputs": [],
   "source": [
    "pred_polygons = gpd.read_file(PRED_POLYGONS_FPATH)\n",
    "pred_polygons.head()"
   ]
  },
  {
   "cell_type": "markdown",
   "metadata": {},
   "source": [
    "### Get the country admin bounds and join with the aquaculture polygons"
   ]
  },
  {
   "cell_type": "code",
   "execution_count": null,
   "metadata": {},
   "outputs": [],
   "source": [
    "admin_bounds = gpd.read_file(gpd.datasets.get_path(\"naturalearth_lowres\"))\n",
    "usecols = [\"name\", \"geometry\"]\n",
    "admin_bounds = admin_bounds.loc[admin_bounds[\"name\"] == COUNTRY, usecols]\n",
    "admin_bounds.head()"
   ]
  },
  {
   "cell_type": "code",
   "execution_count": null,
   "metadata": {},
   "outputs": [],
   "source": [
    "country_pred_polygons = gpd.sjoin(\n",
    "    left_df=pred_polygons,\n",
    "    right_df=admin_bounds,\n",
    "    how=\"inner\",\n",
    "    predicate=\"intersects\",\n",
    ")\n",
    "country_pred_polygons[\"geometry\"] = country_pred_polygons[\"geometry\"].simplify(\n",
    "    SIMPLIFY_M\n",
    ")\n",
    "country_pred_polygons.head(2)"
   ]
  },
  {
   "cell_type": "code",
   "execution_count": null,
   "metadata": {},
   "outputs": [],
   "source": [
    "country_annotations = gpd.sjoin(\n",
    "    left_df=annotations,\n",
    "    right_df=admin_bounds,\n",
    "    how=\"inner\",\n",
    "    predicate=\"intersects\",\n",
    ")\n",
    "\n",
    "country_annotations[\"geometry\"] = country_annotations[\"geometry\"].simplify(SIMPLIFY_M)\n",
    "country_annotations.head(2)"
   ]
  },
  {
   "cell_type": "markdown",
   "metadata": {},
   "source": [
    "### Make folium map"
   ]
  },
  {
   "cell_type": "code",
   "execution_count": null,
   "metadata": {},
   "outputs": [],
   "source": [
    "m = folium.Map(tiles=None)\n",
    "\n",
    "folium.raster_layers.TileLayer(tiles=planet_xyz_url, attr=\"NICFI\", name=\"NICFI\").add_to(\n",
    "    m\n",
    ")\n",
    "\n",
    "m = country_annotations.explore(\n",
    "    m=m,\n",
    "    column=\"label\",\n",
    "    categorical=True,\n",
    "    name=\"Ground Truth Annotations\",\n",
    "    cmap=[\n",
    "        \"#d62728\",\n",
    "        \"#2ca02c\",\n",
    "        \"#1f77b4\",\n",
    "    ],  # in alphabetical order: abandoned, extensive, intensive\n",
    "    tooltip=False,\n",
    "    show=False,\n",
    ")\n",
    "\n",
    "m = country_pred_polygons.explore(\n",
    "    m=m,\n",
    "    column=\"label\",\n",
    "    categorical=True,\n",
    "    name=\"Model Predictions\",\n",
    "    cmap=[\"#d62728\", \"#2ca02c\", \"#1f77b4\"],\n",
    "    tooltip=False,\n",
    ")\n",
    "\n",
    "# Fit map to bounds\n",
    "minx, miny, maxx, maxy = admin_bounds.total_bounds\n",
    "m.fit_bounds([[miny, minx], [maxy, maxx]])\n",
    "\n",
    "folium.LayerControl().add_to(m)"
   ]
  },
  {
   "cell_type": "markdown",
   "metadata": {},
   "source": [
    "### Save Map"
   ]
  },
  {
   "cell_type": "code",
   "execution_count": null,
   "metadata": {},
   "outputs": [],
   "source": [
    "m.save(FOLIUM_MAP_FPATH)"
   ]
  }
 ],
 "metadata": {
  "environment": {
   "kernel": "aquafarm-mapping-nn",
   "name": "pytorch-gpu.1-13.m103",
   "type": "gcloud",
   "uri": "gcr.io/deeplearning-platform-release/pytorch-gpu.1-13:m103"
  },
  "kernelspec": {
   "display_name": "Python 3 (ipykernel)",
   "language": "python",
   "name": "python3"
  },
  "language_info": {
   "codemirror_mode": {
    "name": "ipython",
    "version": 3
   },
   "file_extension": ".py",
   "mimetype": "text/x-python",
   "name": "python",
   "nbconvert_exporter": "python",
   "pygments_lexer": "ipython3",
   "version": "3.9.15"
  },
  "vscode": {
   "interpreter": {
    "hash": "aeb62a3171ebff5bd26f5a84aacd61548229219856772c18a13dc8039b05a726"
   }
  }
 },
 "nbformat": 4,
 "nbformat_minor": 4
}
