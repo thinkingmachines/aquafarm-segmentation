{
 "cells": [
  {
   "cell_type": "code",
   "execution_count": null,
   "id": "1041b340",
   "metadata": {},
   "outputs": [],
   "source": [
    "%load_ext autoreload\n",
    "%autoreload 2\n",
    "\n",
    "import sys\n",
    "from pathlib import Path\n",
    "\n",
    "import lightning as L"
   ]
  },
  {
   "cell_type": "code",
   "execution_count": null,
   "id": "98b2bd40",
   "metadata": {},
   "outputs": [],
   "source": [
    "sys.path.append(\"../\")  # include parent directory\n",
    "from src.pond_data import PondDataset, PondDataModule\n",
    "from src.seg_model import SegmentationModel\n",
    "from src.config_utils import build_kwargs_from_config, add_lr_scheduler_config"
   ]
  },
  {
   "cell_type": "markdown",
   "id": "07e79de0",
   "metadata": {},
   "source": [
    "## Model Training\n",
    "\n",
    "This notebook sets up the pytorch lightning Dataset, DataModule, and LightningModule for training a pond segmentation model using NICFI satellite imagery.\n",
    "\n",
    "\n",
    "## Input\n",
    "- Satellite Images (geoTIFF files)\n",
    "- Raster Masks (geoTIFF files)\n",
    "\n",
    "\n",
    "## Output\n",
    "- Trained Model (Pytorch Lightning checkpoint file)"
   ]
  },
  {
   "cell_type": "markdown",
   "id": "227ee1a5",
   "metadata": {},
   "source": [
    "## Set up parameters from config yaml\n",
    "\n",
    "Feel free to edit the parameters here as well"
   ]
  },
  {
   "cell_type": "code",
   "execution_count": null,
   "id": "efa5424f",
   "metadata": {},
   "outputs": [],
   "source": [
    "DATA_PATH = Path(\"../data\")\n",
    "CONFIG_PATH = Path(\"../config\")\n",
    "MODELS_PATH = Path(\"../models\")\n",
    "MODELS_PATH.mkdir(exist_ok=True)\n",
    "\n",
    "# get data paths here\n",
    "CONFIG_FPATH = CONFIG_PATH / \"pond_config.yaml\""
   ]
  },
  {
   "cell_type": "code",
   "execution_count": null,
   "id": "a1c684ff",
   "metadata": {},
   "outputs": [],
   "source": [
    "kwargs_dict = build_kwargs_from_config(DATA_PATH, CONFIG_FPATH, MODELS_PATH)"
   ]
  },
  {
   "cell_type": "code",
   "execution_count": null,
   "id": "d8de61f9",
   "metadata": {},
   "outputs": [],
   "source": [
    "RANDOM_SEED = kwargs_dict[\"misc_kwargs\"][\"random_seed\"]\n",
    "RANDOM_SEED"
   ]
  },
  {
   "cell_type": "code",
   "execution_count": null,
   "id": "4aadf9ce",
   "metadata": {},
   "outputs": [],
   "source": [
    "DATASET_KWARGS = kwargs_dict[\"dataset_kwargs\"]\n",
    "DATASET_KWARGS"
   ]
  },
  {
   "cell_type": "code",
   "execution_count": null,
   "id": "57c0645b",
   "metadata": {},
   "outputs": [],
   "source": [
    "DATAMODULE_KWARGS = kwargs_dict[\"datamodule_kwargs\"]\n",
    "DATAMODULE_KWARGS"
   ]
  },
  {
   "cell_type": "code",
   "execution_count": null,
   "id": "dab55018",
   "metadata": {},
   "outputs": [],
   "source": [
    "LIGHTNINGMODULE_KWARGS = kwargs_dict[\"lightningmodule_kwargs\"]\n",
    "LIGHTNINGMODULE_KWARGS"
   ]
  },
  {
   "cell_type": "code",
   "execution_count": null,
   "id": "ff7aeaf6",
   "metadata": {},
   "outputs": [],
   "source": [
    "TRAINER_KWARGS = {\n",
    "    \"accelerator\": \"auto\",\n",
    "    \"devices\": 1,\n",
    "    \"max_epochs\": kwargs_dict[\"trainer_kwargs\"][\"num_epochs\"],\n",
    "    \"max_time\": kwargs_dict[\"trainer_kwargs\"][\"train_time\"],\n",
    "    \"logger\": kwargs_dict[\"trainer_kwargs\"][\"logger\"],\n",
    "    \"default_root_dir\": MODELS_PATH,\n",
    "    \"callbacks\": kwargs_dict[\"trainer_kwargs\"][\"callbacks\"],\n",
    "}"
   ]
  },
  {
   "cell_type": "markdown",
   "id": "1a97cd76",
   "metadata": {},
   "source": [
    "## Set the random seed for reproducibility"
   ]
  },
  {
   "cell_type": "code",
   "execution_count": null,
   "id": "ad9ce13a",
   "metadata": {},
   "outputs": [],
   "source": [
    "L.seed_everything(seed=RANDOM_SEED, workers=True)"
   ]
  },
  {
   "cell_type": "markdown",
   "id": "e187b980",
   "metadata": {},
   "source": [
    "## Set up the Pytorch Dataset and DataModule"
   ]
  },
  {
   "cell_type": "code",
   "execution_count": null,
   "id": "afa84b28",
   "metadata": {},
   "outputs": [],
   "source": [
    "pond_dataset = PondDataset(**DATASET_KWARGS)\n",
    "pond_dataset"
   ]
  },
  {
   "cell_type": "code",
   "execution_count": null,
   "id": "9d261465",
   "metadata": {},
   "outputs": [],
   "source": [
    "pond_datamodule = PondDataModule(**DATAMODULE_KWARGS)"
   ]
  },
  {
   "cell_type": "markdown",
   "id": "b45c413c",
   "metadata": {},
   "source": [
    "## Set up the LightningModule "
   ]
  },
  {
   "cell_type": "code",
   "execution_count": null,
   "id": "7893e077",
   "metadata": {},
   "outputs": [],
   "source": [
    "LIGHTNINGMODULE_KWARGS[\"in_channels\"] = pond_dataset.NUM_IN_CHANNELS\n",
    "LIGHTNINGMODULE_KWARGS[\"num_classes\"] = pond_dataset.NUM_CLASSES"
   ]
  },
  {
   "cell_type": "code",
   "execution_count": null,
   "id": "e760f3fe",
   "metadata": {},
   "outputs": [],
   "source": [
    "LIGHTNINGMODULE_KWARGS = add_lr_scheduler_config(\n",
    "    LIGHTNINGMODULE_KWARGS, TRAINER_KWARGS, pond_datamodule\n",
    ")\n",
    "LIGHTNINGMODULE_KWARGS"
   ]
  },
  {
   "cell_type": "code",
   "execution_count": null,
   "id": "373b6686",
   "metadata": {},
   "outputs": [],
   "source": [
    "model = SegmentationModel(**LIGHTNINGMODULE_KWARGS)"
   ]
  },
  {
   "cell_type": "markdown",
   "id": "f403551f",
   "metadata": {},
   "source": [
    "## Set up the Lightning Trainer"
   ]
  },
  {
   "cell_type": "code",
   "execution_count": null,
   "id": "cd7b1a33",
   "metadata": {
    "scrolled": true
   },
   "outputs": [],
   "source": [
    "trainer = L.Trainer(**TRAINER_KWARGS)"
   ]
  },
  {
   "cell_type": "markdown",
   "id": "06dca515",
   "metadata": {},
   "source": [
    "## Fit the Model\n",
    "\n",
    "The Trainer will automatically save a checkpoint of the model at the end of every epoch.\n",
    "\n",
    "The Trainer will save to `MODELS_PATH`. See this [reference](https://pytorch-lightning.readthedocs.io/en/stable/common/checkpointing_basic.html) for Pytorch Lightning checkpointing."
   ]
  },
  {
   "cell_type": "code",
   "execution_count": null,
   "id": "ea8c00d2",
   "metadata": {
    "scrolled": false
   },
   "outputs": [],
   "source": [
    "%%time\n",
    "trainer.fit(model=model, datamodule=pond_datamodule)"
   ]
  },
  {
   "cell_type": "markdown",
   "id": "a6cb7ca3",
   "metadata": {},
   "source": [
    "## Validate the Model"
   ]
  },
  {
   "cell_type": "code",
   "execution_count": null,
   "id": "124f1157",
   "metadata": {},
   "outputs": [],
   "source": [
    "# this also updates the confusion matrix in Wandb if the PlotWandbConfusionMatrix callback is being used\n",
    "trainer.validate(model=model, datamodule=pond_datamodule, ckpt_path=\"best\")"
   ]
  }
 ],
 "metadata": {
  "kernelspec": {
   "display_name": "Python 3 (ipykernel)",
   "language": "python",
   "name": "python3"
  },
  "language_info": {
   "codemirror_mode": {
    "name": "ipython",
    "version": 3
   },
   "file_extension": ".py",
   "mimetype": "text/x-python",
   "name": "python",
   "nbconvert_exporter": "python",
   "pygments_lexer": "ipython3",
   "version": "3.9.15"
  },
  "vscode": {
   "interpreter": {
    "hash": "59e5e00ea9cffab0a104e7d207ee3992bf1a532b1fa1651e0cb9f90325eb4909"
   }
  }
 },
 "nbformat": 4,
 "nbformat_minor": 5
}
