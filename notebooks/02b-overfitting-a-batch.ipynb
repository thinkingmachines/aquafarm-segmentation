{
 "cells": [
  {
   "cell_type": "code",
   "execution_count": null,
   "id": "7edfc8c7",
   "metadata": {},
   "outputs": [],
   "source": [
    "%load_ext autoreload\n",
    "%autoreload 2\n",
    "\n",
    "import os\n",
    "import sys\n",
    "from pathlib import Path\n",
    "from loguru import logger\n",
    "from tqdm import tqdm\n",
    "import shutil\n",
    "\n",
    "import lightning as L\n",
    "from torch.utils.data import Subset, DataLoader"
   ]
  },
  {
   "cell_type": "code",
   "execution_count": null,
   "id": "f12a160e",
   "metadata": {},
   "outputs": [],
   "source": [
    "sys.path.append(\"../\")  # include parent directory\n",
    "from src.pond_data import PondDataset, PondDataModule\n",
    "from src.seg_model import SegmentationModel\n",
    "from src.config_utils import build_kwargs_from_config\n",
    "from src.inference_utils import get_checkpoint_fpath"
   ]
  },
  {
   "cell_type": "markdown",
   "id": "62497a5b",
   "metadata": {},
   "source": [
    "## Overfitting a batch\n",
    "\n",
    "This notebook attempts to overfit a batch. Overfitting a batch is a good way of diagnosing errors and bugs with the model training. See more [here](https://fullstackdeeplearning.com/spring2021/lecture-7/#overfit-a-single-batch)\n",
    "\n",
    "Check the following to verify if you've overfit a batch\n",
    "1. Model Metrics\n",
    "2. Model Predictions\n",
    "\n",
    "\n",
    "## Input\n",
    "- Satellite Images (geoTIFF files)\n",
    "- Raster Masks (geoTIFF files)\n",
    "\n",
    "\n",
    "## Output\n",
    "- Overfit model\n",
    "- Model predictions on overfit batch"
   ]
  },
  {
   "cell_type": "markdown",
   "id": "227ee1a5",
   "metadata": {},
   "source": [
    "## Set up parameters from config yaml\n",
    "\n",
    "Feel free to edit the parameters here as well"
   ]
  },
  {
   "cell_type": "code",
   "execution_count": null,
   "id": "efa5424f",
   "metadata": {},
   "outputs": [],
   "source": [
    "DATA_PATH = Path(\"../data\")\n",
    "CONFIG_PATH = Path(\"../config\")\n",
    "MODELS_PATH = Path(\"../models\")\n",
    "MODELS_PATH.mkdir(exist_ok=True)\n",
    "\n",
    "CONFIG_FPATH = CONFIG_PATH / \"pond_config.yaml\""
   ]
  },
  {
   "cell_type": "code",
   "execution_count": null,
   "id": "072a8f49",
   "metadata": {},
   "outputs": [],
   "source": [
    "kwargs_dict = build_kwargs_from_config(DATA_PATH, CONFIG_FPATH, MODELS_PATH)"
   ]
  },
  {
   "cell_type": "code",
   "execution_count": null,
   "id": "57a62050",
   "metadata": {},
   "outputs": [],
   "source": [
    "RANDOM_SEED = kwargs_dict[\"misc_kwargs\"][\"random_seed\"]\n",
    "RANDOM_SEED"
   ]
  },
  {
   "cell_type": "code",
   "execution_count": null,
   "id": "4aafca5f",
   "metadata": {},
   "outputs": [],
   "source": [
    "DATASET_KWARGS = kwargs_dict[\"dataset_kwargs\"]\n",
    "DATASET_KWARGS"
   ]
  },
  {
   "cell_type": "code",
   "execution_count": null,
   "id": "53d1f287",
   "metadata": {},
   "outputs": [],
   "source": [
    "DATAMODULE_KWARGS = kwargs_dict[\"datamodule_kwargs\"]\n",
    "DATAMODULE_KWARGS"
   ]
  },
  {
   "cell_type": "code",
   "execution_count": null,
   "id": "f43f12a0",
   "metadata": {},
   "outputs": [],
   "source": [
    "LIGHTNINGMODULE_KWARGS = kwargs_dict[\"lightningmodule_kwargs\"]\n",
    "LIGHTNINGMODULE_KWARGS"
   ]
  },
  {
   "cell_type": "code",
   "execution_count": null,
   "id": "c83f55de",
   "metadata": {},
   "outputs": [],
   "source": [
    "parent_dir_name = kwargs_dict[\"misc_kwargs\"][\"parent_dir\"]\n",
    "parent_dir_name = f\"{parent_dir_name}-overfit_batch\"\n",
    "\n",
    "MODEL_ARTIFACTS_DIR = MODELS_PATH / parent_dir_name\n",
    "MODEL_ARTIFACTS_DIR"
   ]
  },
  {
   "cell_type": "code",
   "execution_count": null,
   "id": "1273759a",
   "metadata": {},
   "outputs": [],
   "source": [
    "TRAINER_KWARGS = {\n",
    "    \"accelerator\": \"auto\",\n",
    "    \"devices\": 1,\n",
    "    \"max_epochs\": 100,\n",
    "    \"overfit_batches\": 1,\n",
    "    \"logger\": kwargs_dict[\"trainer_kwargs\"][\"logger\"],\n",
    "    \"default_root_dir\": MODELS_PATH,\n",
    "    \"callbacks\": kwargs_dict[\"trainer_kwargs\"][\"callbacks\"],\n",
    "}"
   ]
  },
  {
   "cell_type": "markdown",
   "id": "8eb19f8d",
   "metadata": {},
   "source": [
    "## Make folder for prediction masks"
   ]
  },
  {
   "cell_type": "code",
   "execution_count": null,
   "id": "7fcd01f7",
   "metadata": {},
   "outputs": [],
   "source": [
    "PREDICT_MASK_FOLDER = DATAMODULE_KWARGS[\"predict_masks_root\"]\n",
    "PREDICT_MASK_FOLDER = Path(f\"{PREDICT_MASK_FOLDER}-overfit_batch\")\n",
    "\n",
    "if os.path.exists(PREDICT_MASK_FOLDER):\n",
    "    logger.info(f\"Deleting files in existing folder {PREDICT_MASK_FOLDER}\")\n",
    "    shutil.rmtree(PREDICT_MASK_FOLDER)\n",
    "\n",
    "PREDICT_MASK_FOLDER.mkdir(exist_ok=True)"
   ]
  },
  {
   "cell_type": "markdown",
   "id": "1a97cd76",
   "metadata": {},
   "source": [
    "## Set the random seed for reproducibility"
   ]
  },
  {
   "cell_type": "code",
   "execution_count": null,
   "id": "ad9ce13a",
   "metadata": {},
   "outputs": [],
   "source": [
    "L.seed_everything(seed=RANDOM_SEED, workers=True)"
   ]
  },
  {
   "cell_type": "markdown",
   "id": "e187b980",
   "metadata": {},
   "source": [
    "## Set up the Pytorch Dataset and DataModule\n",
    "\n",
    "Also force the datasets in the datamodule be 1 batch size long"
   ]
  },
  {
   "cell_type": "code",
   "execution_count": null,
   "id": "07007021",
   "metadata": {},
   "outputs": [],
   "source": [
    "%%time\n",
    "pond_dataset = PondDataset(**DATASET_KWARGS)\n",
    "pond_dataset"
   ]
  },
  {
   "cell_type": "code",
   "execution_count": null,
   "id": "9d261465",
   "metadata": {},
   "outputs": [],
   "source": [
    "pond_datamodule = PondDataModule(**DATAMODULE_KWARGS)"
   ]
  },
  {
   "cell_type": "code",
   "execution_count": null,
   "id": "fcfbf250",
   "metadata": {},
   "outputs": [],
   "source": [
    "# replace the training set with overfit indices only\n",
    "pond_datamodule.setup(stage=\"fit\")\n",
    "n_overfit_samples = TRAINER_KWARGS[\"overfit_batches\"] * DATAMODULE_KWARGS[\"batch_size\"]\n",
    "assert isinstance(n_overfit_samples, int)\n",
    "overfit_indices = range(n_overfit_samples)\n",
    "pond_datamodule.train_dataset = Subset(\n",
    "    pond_datamodule.train_dataset.dataset, overfit_indices\n",
    ")"
   ]
  },
  {
   "cell_type": "code",
   "execution_count": null,
   "id": "471c523b",
   "metadata": {},
   "outputs": [],
   "source": [
    "# set up training dataloader\n",
    "\n",
    "dataloader = DataLoader(\n",
    "    pond_datamodule.train_dataset,\n",
    "    batch_size=DATAMODULE_KWARGS[\"batch_size\"],\n",
    "    num_workers=DATAMODULE_KWARGS[\"num_workers\"],\n",
    "    shuffle=False,\n",
    ")"
   ]
  },
  {
   "cell_type": "markdown",
   "id": "b45c413c",
   "metadata": {},
   "source": [
    "## Set up the LightningModule "
   ]
  },
  {
   "cell_type": "code",
   "execution_count": null,
   "id": "49b11358",
   "metadata": {},
   "outputs": [],
   "source": [
    "LIGHTNINGMODULE_KWARGS[\"in_channels\"] = pond_dataset.NUM_IN_CHANNELS\n",
    "LIGHTNINGMODULE_KWARGS[\"num_classes\"] = pond_dataset.NUM_CLASSES"
   ]
  },
  {
   "cell_type": "code",
   "execution_count": null,
   "id": "bb2d2b09",
   "metadata": {},
   "outputs": [],
   "source": [
    "if LIGHTNINGMODULE_KWARGS[\"lr_scheduler\"] == \"OneCycleLR\":\n",
    "    steps_per_epoch = TRAINER_KWARGS[\"overfit_batches\"]\n",
    "    epochs = TRAINER_KWARGS.get(\"max_epochs\", None)\n",
    "    train_time = TRAINER_KWARGS.get(\"train_time\", None)\n",
    "    assert epochs is not None\n",
    "    assert train_time is None\n",
    "    lr_scheduler_config = {\"steps_per_epoch\": steps_per_epoch, \"epochs\": epochs}\n",
    "    LIGHTNINGMODULE_KWARGS[\"lr_scheduler_config\"] = lr_scheduler_config"
   ]
  },
  {
   "cell_type": "code",
   "execution_count": null,
   "id": "373b6686",
   "metadata": {},
   "outputs": [],
   "source": [
    "model = SegmentationModel(**LIGHTNINGMODULE_KWARGS)"
   ]
  },
  {
   "cell_type": "markdown",
   "id": "f403551f",
   "metadata": {},
   "source": [
    "## Set up the Lightning Trainer"
   ]
  },
  {
   "cell_type": "code",
   "execution_count": null,
   "id": "cd7b1a33",
   "metadata": {
    "scrolled": true
   },
   "outputs": [],
   "source": [
    "trainer = L.Trainer(**TRAINER_KWARGS)"
   ]
  },
  {
   "cell_type": "markdown",
   "id": "06dca515",
   "metadata": {},
   "source": [
    "## Fit the Model"
   ]
  },
  {
   "cell_type": "code",
   "execution_count": null,
   "id": "ea8c00d2",
   "metadata": {
    "scrolled": false
   },
   "outputs": [],
   "source": [
    "%%time\n",
    "trainer.fit(model=model, train_dataloaders=dataloader, val_dataloaders=dataloader)"
   ]
  },
  {
   "cell_type": "markdown",
   "id": "845d2eaf",
   "metadata": {},
   "source": [
    "## Load the best model checkpoint"
   ]
  },
  {
   "cell_type": "code",
   "execution_count": null,
   "id": "456379c8",
   "metadata": {},
   "outputs": [],
   "source": [
    "# will load dataset based on this checkpoint\n",
    "MODEL_CHECKPOINT_FPATH = get_checkpoint_fpath(MODEL_ARTIFACTS_DIR)\n",
    "MODEL_CHECKPOINT_FPATH"
   ]
  },
  {
   "cell_type": "code",
   "execution_count": null,
   "id": "99f475c4",
   "metadata": {},
   "outputs": [],
   "source": [
    "predict_model = model.load_from_checkpoint(MODEL_CHECKPOINT_FPATH)"
   ]
  },
  {
   "cell_type": "markdown",
   "id": "16e89cd1",
   "metadata": {},
   "source": [
    "## Model Prediction"
   ]
  },
  {
   "cell_type": "code",
   "execution_count": null,
   "id": "4dd457d9",
   "metadata": {},
   "outputs": [],
   "source": [
    "%%time\n",
    "predictions = trainer.predict(model=predict_model, dataloaders=dataloader)"
   ]
  },
  {
   "cell_type": "code",
   "execution_count": null,
   "id": "30f78381",
   "metadata": {},
   "outputs": [],
   "source": [
    "%%time\n",
    "for predict_batch in tqdm(predictions):\n",
    "    idx_batch, pred_mask_batch = predict_batch\n",
    "    idx_batch = idx_batch.numpy()\n",
    "    pred_mask_batch = pred_mask_batch.numpy()\n",
    "\n",
    "    batch_predict_dict = dict(zip(idx_batch, pred_mask_batch))\n",
    "\n",
    "    # save predictions to disk\n",
    "    for idx, pred_mask in batch_predict_dict.items():\n",
    "        pond_datamodule.train_dataset.dataset.save_predict_mask(\n",
    "            idx, pred_mask, output_dir=PREDICT_MASK_FOLDER\n",
    "        )"
   ]
  },
  {
   "cell_type": "code",
   "execution_count": null,
   "id": "d4a04de0",
   "metadata": {},
   "outputs": [],
   "source": [
    "batch_predict_dict"
   ]
  },
  {
   "cell_type": "markdown",
   "id": "b4b52ec3",
   "metadata": {},
   "source": [
    "## Construct a Pytorch dataset to read the prediction mask"
   ]
  },
  {
   "cell_type": "code",
   "execution_count": null,
   "id": "e33e1645",
   "metadata": {
    "scrolled": true
   },
   "outputs": [],
   "source": [
    "pred_dataset_kwargs = DATASET_KWARGS.copy()\n",
    "pred_dataset_kwargs[\"masks_root\"] = PREDICT_MASK_FOLDER\n",
    "pred_dataset_kwargs"
   ]
  },
  {
   "cell_type": "code",
   "execution_count": null,
   "id": "6f870727",
   "metadata": {},
   "outputs": [],
   "source": [
    "%%time\n",
    "pred_dataset = PondDataset(**pred_dataset_kwargs)\n",
    "pred_dataset"
   ]
  },
  {
   "cell_type": "markdown",
   "id": "8b9fceea",
   "metadata": {},
   "source": [
    "## Visualize model predictions\n",
    "\n",
    "Visualize actual mask vs predicted mask"
   ]
  },
  {
   "cell_type": "code",
   "execution_count": null,
   "id": "6a24c07a",
   "metadata": {},
   "outputs": [],
   "source": [
    "i = 2\n",
    "pond_datamodule.train_dataset.dataset.plot_img(i)\n",
    "pred_dataset.plot_img(i)"
   ]
  },
  {
   "cell_type": "code",
   "execution_count": null,
   "id": "44ee4db8",
   "metadata": {},
   "outputs": [],
   "source": []
  }
 ],
 "metadata": {
  "kernelspec": {
   "display_name": "aquafarm-mapping-nn",
   "language": "python",
   "name": "python3"
  },
  "language_info": {
   "codemirror_mode": {
    "name": "ipython",
    "version": 3
   },
   "file_extension": ".py",
   "mimetype": "text/x-python",
   "name": "python",
   "nbconvert_exporter": "python",
   "pygments_lexer": "ipython3",
   "version": "3.9.15"
  },
  "vscode": {
   "interpreter": {
    "hash": "59e5e00ea9cffab0a104e7d207ee3992bf1a532b1fa1651e0cb9f90325eb4909"
   }
  }
 },
 "nbformat": 4,
 "nbformat_minor": 5
}
