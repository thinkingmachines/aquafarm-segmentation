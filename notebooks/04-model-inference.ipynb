{
 "cells": [
  {
   "cell_type": "code",
   "execution_count": null,
   "id": "2d757314",
   "metadata": {},
   "outputs": [],
   "source": [
    "%load_ext autoreload\n",
    "%autoreload 2\n",
    "\n",
    "import os\n",
    "import yaml\n",
    "import shutil\n",
    "import sys\n",
    "from pathlib import Path\n",
    "from loguru import logger\n",
    "from tqdm import tqdm\n",
    "\n",
    "import lightning as L"
   ]
  },
  {
   "cell_type": "code",
   "execution_count": null,
   "id": "7924b644",
   "metadata": {},
   "outputs": [],
   "source": [
    "sys.path.append(\"../\")  # include parent directory\n",
    "from src.pond_data import PondDataset, PondDataModule\n",
    "from src.seg_model import SegmentationModel\n",
    "from src.config_utils import build_kwargs_from_config\n",
    "from src.inference_utils import (\n",
    "    get_checkpoint_fpath,\n",
    "    get_checkpoint_hparams,\n",
    ")\n",
    "from src.rollout_utils import polygonize_raster_mask"
   ]
  },
  {
   "cell_type": "markdown",
   "id": "0e47e8e9",
   "metadata": {},
   "source": [
    "## Model Inference\n",
    "This notebook predicts on images given a trained model.\n",
    "\n",
    "## Input\n",
    "- Satellite Images (geoTIFF files)\n",
    "- Trained Model (Pytorch Lightning checkpoint file)\n",
    "\n",
    "## Output\n",
    "- Raster Masks (geoTIFF files)\n",
    "- Predicted Pond Polygons (geopackage files)"
   ]
  },
  {
   "cell_type": "markdown",
   "id": "227ee1a5",
   "metadata": {},
   "source": [
    "## Set Input Parameters"
   ]
  },
  {
   "cell_type": "code",
   "execution_count": null,
   "id": "efa5424f",
   "metadata": {},
   "outputs": [],
   "source": [
    "DATA_PATH = Path(\"../data\")\n",
    "CONFIG_PATH = Path(\"../config\")\n",
    "MODELS_PATH = Path(\"../models\")\n",
    "\n",
    "CONFIG_FPATH = CONFIG_PATH / \"pond_config.yaml\"\n",
    "\n",
    "# if version is unspecified, will get latest checkpoint\n",
    "VERSION_NUM = None"
   ]
  },
  {
   "cell_type": "code",
   "execution_count": null,
   "id": "d935113f",
   "metadata": {},
   "outputs": [],
   "source": [
    "kwargs_dict = build_kwargs_from_config(DATA_PATH, CONFIG_FPATH)\n",
    "\n",
    "PARENT_DIR = kwargs_dict[\"misc_kwargs\"][\"parent_dir\"]"
   ]
  },
  {
   "cell_type": "code",
   "execution_count": null,
   "id": "f2042315",
   "metadata": {},
   "outputs": [],
   "source": [
    "RANDOM_SEED = kwargs_dict[\"misc_kwargs\"][\"random_seed\"]\n",
    "RANDOM_SEED"
   ]
  },
  {
   "cell_type": "code",
   "execution_count": null,
   "id": "f218de30",
   "metadata": {},
   "outputs": [],
   "source": [
    "MODEL_ARTIFACTS_DIR = MODELS_PATH / PARENT_DIR\n",
    "MODEL_ARTIFACTS_DIR"
   ]
  },
  {
   "cell_type": "code",
   "execution_count": null,
   "id": "3a1d234f",
   "metadata": {},
   "outputs": [],
   "source": [
    "PRED_POLYGONS_FPATH = DATA_PATH / PARENT_DIR / \"pred_polygons.gpkg\""
   ]
  },
  {
   "cell_type": "code",
   "execution_count": null,
   "id": "b5bcf7e8",
   "metadata": {},
   "outputs": [],
   "source": [
    "# will load dataset based on this checkpoint\n",
    "MODEL_CHECKPOINT_FPATH = get_checkpoint_fpath(\n",
    "    MODEL_ARTIFACTS_DIR, version_num=VERSION_NUM\n",
    ")\n",
    "MODEL_CHECKPOINT_FPATH"
   ]
  },
  {
   "cell_type": "code",
   "execution_count": null,
   "id": "a57afc29",
   "metadata": {},
   "outputs": [],
   "source": [
    "DATASET_KWARGS = kwargs_dict[\"dataset_kwargs\"]\n",
    "DATASET_KWARGS"
   ]
  },
  {
   "cell_type": "code",
   "execution_count": null,
   "id": "2d0f637f",
   "metadata": {},
   "outputs": [],
   "source": [
    "DATAMODULE_KWARGS = kwargs_dict[\"datamodule_kwargs\"]\n",
    "DATAMODULE_KWARGS"
   ]
  },
  {
   "cell_type": "code",
   "execution_count": null,
   "id": "3babae10",
   "metadata": {},
   "outputs": [],
   "source": [
    "# get the model arguments from the checkpoint folder\n",
    "model_kwargs_path = get_checkpoint_hparams(MODEL_ARTIFACTS_DIR, version_num=VERSION_NUM)\n",
    "with open(model_kwargs_path, \"r\") as stream:\n",
    "    LIGHTNINGMODULE_KWARGS = yaml.safe_load(stream)\n",
    "LIGHTNINGMODULE_KWARGS"
   ]
  },
  {
   "cell_type": "code",
   "execution_count": null,
   "id": "0166a722",
   "metadata": {},
   "outputs": [],
   "source": [
    "TRAINER_KWARGS = {\n",
    "    \"accelerator\": \"auto\",\n",
    "    \"logger\": False,\n",
    "}"
   ]
  },
  {
   "cell_type": "markdown",
   "id": "8eb19f8d",
   "metadata": {},
   "source": [
    "## Make folder for prediction masks"
   ]
  },
  {
   "cell_type": "code",
   "execution_count": null,
   "id": "7fcd01f7",
   "metadata": {},
   "outputs": [],
   "source": [
    "PREDICT_MASK_FOLDER = DATAMODULE_KWARGS[\"predict_masks_root\"]\n",
    "\n",
    "if os.path.exists(PREDICT_MASK_FOLDER):\n",
    "    logger.info(f\"Deleting files in existing folder {PREDICT_MASK_FOLDER}\")\n",
    "    shutil.rmtree(PREDICT_MASK_FOLDER)\n",
    "\n",
    "PREDICT_MASK_FOLDER.mkdir(exist_ok=True)"
   ]
  },
  {
   "cell_type": "markdown",
   "id": "1a97cd76",
   "metadata": {},
   "source": [
    "## Set the random seed for reproducibility"
   ]
  },
  {
   "cell_type": "code",
   "execution_count": null,
   "id": "ad9ce13a",
   "metadata": {},
   "outputs": [],
   "source": [
    "L.seed_everything(seed=RANDOM_SEED, workers=True)"
   ]
  },
  {
   "cell_type": "markdown",
   "id": "e187b980",
   "metadata": {},
   "source": [
    "## Set up the Pytorch Dataset and DataModule"
   ]
  },
  {
   "cell_type": "code",
   "execution_count": null,
   "id": "a9fbe431",
   "metadata": {},
   "outputs": [],
   "source": [
    "pond_dataset = PondDataset(**DATASET_KWARGS)\n",
    "pond_dataset"
   ]
  },
  {
   "cell_type": "code",
   "execution_count": null,
   "id": "9d261465",
   "metadata": {},
   "outputs": [],
   "source": [
    "pond_datamodule = PondDataModule(**DATAMODULE_KWARGS)"
   ]
  },
  {
   "cell_type": "markdown",
   "id": "b45c413c",
   "metadata": {},
   "source": [
    "## Set up the LightningModule "
   ]
  },
  {
   "cell_type": "code",
   "execution_count": null,
   "id": "08ac1594",
   "metadata": {},
   "outputs": [],
   "source": [
    "model = SegmentationModel(**LIGHTNINGMODULE_KWARGS)"
   ]
  },
  {
   "cell_type": "markdown",
   "id": "39d50408",
   "metadata": {},
   "source": [
    "## Load Trained Model and Trainer"
   ]
  },
  {
   "cell_type": "code",
   "execution_count": null,
   "id": "939d513b",
   "metadata": {},
   "outputs": [],
   "source": [
    "model = model.load_from_checkpoint(MODEL_CHECKPOINT_FPATH)"
   ]
  },
  {
   "cell_type": "code",
   "execution_count": null,
   "id": "cff93f81",
   "metadata": {},
   "outputs": [],
   "source": [
    "trainer = L.Trainer(**TRAINER_KWARGS)"
   ]
  },
  {
   "cell_type": "markdown",
   "id": "aa53a0e6",
   "metadata": {},
   "source": [
    "## Model Prediction\n",
    "\n",
    "Predict on test data"
   ]
  },
  {
   "cell_type": "code",
   "execution_count": null,
   "id": "3a160b3a",
   "metadata": {
    "scrolled": true
   },
   "outputs": [],
   "source": [
    "%%time\n",
    "predictions = trainer.predict(model=model, datamodule=pond_datamodule)"
   ]
  },
  {
   "cell_type": "code",
   "execution_count": null,
   "id": "3051b3c1",
   "metadata": {},
   "outputs": [],
   "source": [
    "%%time\n",
    "for predict_batch in tqdm(predictions):\n",
    "    idx_batch, pred_mask_batch = predict_batch\n",
    "    idx_batch = idx_batch.numpy()\n",
    "    pred_mask_batch = pred_mask_batch.numpy()\n",
    "\n",
    "    batch_predict_dict = dict(zip(idx_batch, pred_mask_batch))\n",
    "\n",
    "    # save predictions to disk\n",
    "    for idx, pred_mask in batch_predict_dict.items():\n",
    "        pond_datamodule.predict_dataset.save_predict_mask(\n",
    "            idx, pred_mask, output_dir=PREDICT_MASK_FOLDER\n",
    "        )"
   ]
  },
  {
   "cell_type": "markdown",
   "id": "8b9fceea",
   "metadata": {},
   "source": [
    "## Visualize model predictions\n",
    "\n",
    "Visualize actual mask vs predicted mask"
   ]
  },
  {
   "cell_type": "code",
   "execution_count": null,
   "id": "7d108685",
   "metadata": {},
   "outputs": [],
   "source": [
    "# setup the training dataset\n",
    "pond_datamodule.setup(stage=\"fit\")"
   ]
  },
  {
   "cell_type": "markdown",
   "id": "f526fe63",
   "metadata": {},
   "source": [
    "### Predict on the Training Set"
   ]
  },
  {
   "cell_type": "code",
   "execution_count": null,
   "id": "9d65dbff",
   "metadata": {},
   "outputs": [],
   "source": [
    "i = 12\n",
    "train_indices = pond_datamodule.train_dataset.indices\n",
    "pond_datamodule.train_dataset.dataset.plot_img(train_indices[i])\n",
    "pond_datamodule.predict_dataset.plot_img(train_indices[i])"
   ]
  },
  {
   "cell_type": "markdown",
   "id": "a81983a9",
   "metadata": {},
   "source": [
    "### Predict on the Validation Set"
   ]
  },
  {
   "cell_type": "code",
   "execution_count": null,
   "id": "1386275e",
   "metadata": {},
   "outputs": [],
   "source": [
    "i = 12\n",
    "val_indices = pond_datamodule.val_dataset.indices\n",
    "pond_datamodule.val_dataset.dataset.plot_img(val_indices[i])\n",
    "pond_datamodule.predict_dataset.plot_img(val_indices[i])"
   ]
  },
  {
   "cell_type": "markdown",
   "id": "7868583c",
   "metadata": {},
   "source": [
    "## Polygonize Predictions\n",
    "\n",
    "Convert TIFF files into polygons"
   ]
  },
  {
   "cell_type": "code",
   "execution_count": null,
   "id": "84b0d838",
   "metadata": {},
   "outputs": [],
   "source": [
    "# Get all tif files within the pond_masks folder\n",
    "pred_mask_fpaths = sorted(list((PREDICT_MASK_FOLDER).glob(\"**/*tif\")))\n",
    "len(pred_mask_fpaths), pred_mask_fpaths[:3]"
   ]
  },
  {
   "cell_type": "code",
   "execution_count": null,
   "id": "ed6b3fae",
   "metadata": {},
   "outputs": [],
   "source": [
    "%%time\n",
    "# Delete polygons file if it exists\n",
    "# It will be generated in this loop\n",
    "PRED_POLYGONS_FPATH.unlink(missing_ok=True)\n",
    "pred_mask_crs = None\n",
    "empty_prediction_fpaths = []\n",
    "\n",
    "for pred_mask_fpath in tqdm(pred_mask_fpaths):\n",
    "    skip_labels = [pond_dataset.BACKGROUND_PIXEL_VAL]\n",
    "    pred_polygons = polygonize_raster_mask(\n",
    "        pred_mask_fpath,\n",
    "        skip_labels=skip_labels,\n",
    "        simplify_tolerance_m=None,\n",
    "    )\n",
    "\n",
    "    # Skip next steps if no polygons were generated\n",
    "    if pred_polygons.empty:\n",
    "        empty_prediction_fpaths.append(pred_mask_fpath)\n",
    "        continue\n",
    "\n",
    "    # check if crs is consistent\n",
    "    if pred_mask_crs is None:\n",
    "        pred_mask_crs = pred_polygons.crs\n",
    "    if pred_mask_crs != pred_polygons.crs:\n",
    "        error_msg = f\"Incompatible crs of {pred_mask_path}. Expected {pred_mask_crs} but it has {pred_polygons.crs}\"\n",
    "        raise ValueError(error_msg)\n",
    "\n",
    "    pred_polygons[\"label\"] = pred_polygons[\"label\"].map(pond_dataset.label_mapping)\n",
    "    pred_polygons = pred_polygons.to_crs(\"epsg:4326\")\n",
    "\n",
    "    # Write to file\n",
    "    write_mode = \"a\" if PRED_POLYGONS_FPATH.exists() else \"w\"\n",
    "    pred_polygons.to_file(\n",
    "        PRED_POLYGONS_FPATH, driver=\"GPKG\", mode=write_mode, index=False\n",
    "    )\n",
    "\n",
    "logger.info(\n",
    "    f\"Finished polygonizing. There were {len(empty_prediction_fpaths):,} TIFF files that were purely background\"\n",
    ")"
   ]
  }
 ],
 "metadata": {
  "kernelspec": {
   "display_name": "Python 3 (ipykernel)",
   "language": "python",
   "name": "python3"
  },
  "language_info": {
   "codemirror_mode": {
    "name": "ipython",
    "version": 3
   },
   "file_extension": ".py",
   "mimetype": "text/x-python",
   "name": "python",
   "nbconvert_exporter": "python",
   "pygments_lexer": "ipython3",
   "version": "3.9.15"
  },
  "vscode": {
   "interpreter": {
    "hash": "59e5e00ea9cffab0a104e7d207ee3992bf1a532b1fa1651e0cb9f90325eb4909"
   }
  }
 },
 "nbformat": 4,
 "nbformat_minor": 5
}
