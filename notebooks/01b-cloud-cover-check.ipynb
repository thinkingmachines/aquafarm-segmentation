{
 "cells": [
  {
   "cell_type": "code",
   "execution_count": null,
   "id": "954aa33b",
   "metadata": {},
   "outputs": [],
   "source": [
    "%load_ext autoreload\n",
    "%autoreload 2\n",
    "\n",
    "import sys\n",
    "import json\n",
    "from pathlib import Path\n",
    "import numpy as np\n",
    "import pandas as pd\n",
    "import matplotlib.pyplot as plt\n",
    "import geopandas as gpd\n",
    "import folium\n",
    "import branca.colormap as cm\n",
    "from loguru import logger"
   ]
  },
  {
   "cell_type": "code",
   "execution_count": null,
   "id": "ce7cda2c",
   "metadata": {},
   "outputs": [],
   "source": [
    "sys.path.append(\"../\")  # include parent directory\n",
    "from src.pond_data import PondDataset, PondDataModule\n",
    "from src.config_utils import build_kwargs_from_config"
   ]
  },
  {
   "cell_type": "markdown",
   "id": "9c7decee",
   "metadata": {},
   "source": [
    "## Visualize Model Tiles for Cloud Cover Check\n",
    "\n",
    "This notebook creates a folium map of model tiles with estimated level of cloud cover. This is so we can find which model tiles have annotations when in fact they are covered in clouds. One we identify the tiles that are too cloudy and have annotations, we do the following\n",
    "1. Keep the image for the model but revise its corresponding annotation mask to be all background\n",
    "2. Ignore both the image its corresponding annotation mask.\n",
    "\n",
    "## Input\n",
    "- Satellite Images (geoTIFF files)\n",
    "- Raster Masks (geoTIFF files)\n",
    "\n",
    "## Output\n",
    "- Folium map of model grid cells colored by estimated level of cloud cover (folium HTML file)"
   ]
  },
  {
   "cell_type": "markdown",
   "id": "a4c357b3",
   "metadata": {},
   "source": [
    "## Set up parameters from config yaml\n",
    "\n",
    "Feel free to edit the parameters here as well"
   ]
  },
  {
   "cell_type": "code",
   "execution_count": null,
   "id": "7e38068a",
   "metadata": {},
   "outputs": [],
   "source": [
    "DATA_PATH = Path(\"../data/\")\n",
    "CONFIG_PATH = Path(\"../config\")\n",
    "\n",
    "CONFIG_FPATH = CONFIG_PATH / \"pond_config.yaml\"\n",
    "\n",
    "STATIC_MAP_DIR = DATA_PATH / \"static_maps\"\n",
    "STATIC_MAP_DIR.mkdir(exist_ok=True)"
   ]
  },
  {
   "cell_type": "code",
   "execution_count": null,
   "id": "30f2c965",
   "metadata": {},
   "outputs": [],
   "source": [
    "kwargs_dict = build_kwargs_from_config(DATA_PATH, CONFIG_FPATH)"
   ]
  },
  {
   "cell_type": "code",
   "execution_count": null,
   "id": "8c40f8dc",
   "metadata": {},
   "outputs": [],
   "source": [
    "DATASET_KWARGS = kwargs_dict[\"dataset_kwargs\"]\n",
    "DATASET_KWARGS"
   ]
  },
  {
   "cell_type": "markdown",
   "id": "39014c18",
   "metadata": {},
   "source": [
    "## Setup Planet API Key"
   ]
  },
  {
   "cell_type": "code",
   "execution_count": null,
   "id": "343f2951",
   "metadata": {},
   "outputs": [],
   "source": [
    "planet_config_path = CONFIG_PATH / \"secrets/planet_config.json\"\n",
    "with open(planet_config_path) as file:\n",
    "    planet_config = json.load(file)\n",
    "planet_xyz_url = \"https://tiles3.planet.com/basemaps/v1/planet-tiles/planet_medres_normalized_analytic_2022-07_mosaic/gmap/{z}/{x}/{y}.png?api_key=\"\n",
    "planet_xyz_url = planet_xyz_url + planet_config[\"PLANET_API_KEY\"]"
   ]
  },
  {
   "cell_type": "markdown",
   "id": "e187b980",
   "metadata": {},
   "source": [
    "## Setting up the Pytorch Dataset"
   ]
  },
  {
   "cell_type": "code",
   "execution_count": null,
   "id": "afa84b28",
   "metadata": {},
   "outputs": [],
   "source": [
    "%%time\n",
    "pond_dataset = PondDataset(**DATASET_KWARGS)\n",
    "pond_dataset"
   ]
  },
  {
   "cell_type": "code",
   "execution_count": null,
   "id": "03bd1b04",
   "metadata": {},
   "outputs": [],
   "source": [
    "# check labels\n",
    "pond_dataset.label_mapping"
   ]
  },
  {
   "cell_type": "code",
   "execution_count": null,
   "id": "2a9bcf2d",
   "metadata": {},
   "outputs": [],
   "source": [
    "# check a sample from the dataset\n",
    "i = 2\n",
    "pond_dataset[i]"
   ]
  },
  {
   "cell_type": "markdown",
   "id": "1da1247f",
   "metadata": {},
   "source": [
    "## Get a geodataframe of tile bounding boxes with median pixel vals\n",
    "\n",
    "We get the median pixel value across all the images. This value is our proxy for cloud cover because high pixel values correspond to having more \"whiteness\" in the image."
   ]
  },
  {
   "cell_type": "code",
   "execution_count": null,
   "id": "b5884a75",
   "metadata": {},
   "outputs": [],
   "source": [
    "%%time\n",
    "median_pixel_val = pond_dataset.get_percentile_pixel_values(percentile=50)"
   ]
  },
  {
   "cell_type": "code",
   "execution_count": null,
   "id": "327ec805",
   "metadata": {},
   "outputs": [],
   "source": [
    "%%time\n",
    "tile_bboxes = pond_dataset.get_tile_bboxes()"
   ]
  },
  {
   "cell_type": "code",
   "execution_count": null,
   "id": "6e72b95c",
   "metadata": {},
   "outputs": [],
   "source": [
    "cloud_check_gdf = {\"median_pixel_val\": median_pixel_val, \"geometry\": tile_bboxes}\n",
    "cloud_check_gdf = pd.DataFrame.from_dict(cloud_check_gdf)\n",
    "cloud_check_gdf.index.name = \"quadkey\"\n",
    "cloud_check_gdf = cloud_check_gdf.reset_index()\n",
    "cloud_check_gdf[\"median_pixel_val_log\"] = cloud_check_gdf[\"median_pixel_val\"].apply(\n",
    "    np.log\n",
    ")\n",
    "cloud_check_gdf.head()"
   ]
  },
  {
   "cell_type": "code",
   "execution_count": null,
   "id": "89d2ead4",
   "metadata": {},
   "outputs": [],
   "source": [
    "cloud_check_gdf[\"geometry\"] = gpd.GeoSeries(\n",
    "    cloud_check_gdf[\"geometry\"], crs=pond_dataset.crs\n",
    ")\n",
    "cloud_check_gdf = gpd.GeoDataFrame(\n",
    "    cloud_check_gdf, geometry=\"geometry\", crs=pond_dataset.crs\n",
    ")\n",
    "cloud_check_gdf = cloud_check_gdf.to_crs(\"epsg:4326\")\n",
    "cloud_check_gdf.head()"
   ]
  },
  {
   "cell_type": "markdown",
   "id": "c75b2683",
   "metadata": {},
   "source": [
    "## Plot histogram of pixel values"
   ]
  },
  {
   "cell_type": "code",
   "execution_count": null,
   "id": "50324660",
   "metadata": {},
   "outputs": [],
   "source": [
    "cloud_check_gdf[\"median_pixel_val\"].hist(bins=100, legend=True)\n",
    "plt.show()"
   ]
  },
  {
   "cell_type": "code",
   "execution_count": null,
   "id": "06bf620d",
   "metadata": {},
   "outputs": [],
   "source": [
    "cloud_check_gdf[\"median_pixel_val_log\"].hist(bins=100, legend=True)\n",
    "plt.show()"
   ]
  },
  {
   "cell_type": "markdown",
   "id": "6d9724f5",
   "metadata": {},
   "source": [
    "## Create the folium map"
   ]
  },
  {
   "cell_type": "code",
   "execution_count": null,
   "id": "6a5ed74a",
   "metadata": {},
   "outputs": [],
   "source": [
    "pixel_val_col = \"median_pixel_val_log\"\n",
    "vmin = cloud_check_gdf[pixel_val_col].min()\n",
    "vmax = cloud_check_gdf[pixel_val_col].max()\n",
    "\n",
    "colormap = cm.LinearColormap(colors=[\"Green\", \"Yellow\", \"Red\"], vmin=vmin, vmax=vmax)"
   ]
  },
  {
   "cell_type": "code",
   "execution_count": null,
   "id": "90cdac36",
   "metadata": {},
   "outputs": [],
   "source": [
    "%%time\n",
    "m = folium.Map(tiles=None)\n",
    "\n",
    "folium.TileLayer(tiles=planet_xyz_url, attr=\"NICFI\", name=\"NICFI\").add_to(m)\n",
    "folium.TileLayer(tiles=\"OpenStreetMap\", name=\"OSM\").add_to(m)\n",
    "\n",
    "m = cloud_check_gdf.explore(\n",
    "    m=m,\n",
    "    column=pixel_val_col,\n",
    "    cmap=colormap,\n",
    "    name=\"Model Tiles\",\n",
    "    popup=[\"quadkey\"],\n",
    "    tooltip=[pixel_val_col],\n",
    ")\n",
    "\n",
    "# Fit map to bounds\n",
    "minx, miny, maxx, maxy = cloud_check_gdf.total_bounds\n",
    "m.fit_bounds([[miny, minx], [maxy, maxx]])\n",
    "\n",
    "folium.LayerControl().add_to(m)\n",
    "folium.ClickForMarker().add_to(m)"
   ]
  },
  {
   "cell_type": "markdown",
   "id": "22ab3b42",
   "metadata": {},
   "source": [
    "## Save Map as HTML"
   ]
  },
  {
   "cell_type": "code",
   "execution_count": null,
   "id": "d076b23d",
   "metadata": {},
   "outputs": [],
   "source": [
    "%%time\n",
    "parent_dir = kwargs_dict[\"misc_kwargs\"][\"parent_dir\"]\n",
    "map_fname = f\"ci-cloud-check-map-{parent_dir}.html\"\n",
    "map_fpath = STATIC_MAP_DIR / map_fname\n",
    "m.save(map_fpath)\n",
    "\n",
    "logger.info(f\"Saved map to {map_fpath}\")"
   ]
  }
 ],
 "metadata": {
  "kernelspec": {
   "display_name": "Python 3 (ipykernel)",
   "language": "python",
   "name": "python3"
  },
  "language_info": {
   "codemirror_mode": {
    "name": "ipython",
    "version": 3
   },
   "file_extension": ".py",
   "mimetype": "text/x-python",
   "name": "python",
   "nbconvert_exporter": "python",
   "pygments_lexer": "ipython3",
   "version": "3.9.13"
  },
  "vscode": {
   "interpreter": {
    "hash": "1b543e42e05ba56decc037f30abffca521d6f4ffda7538733688d8f0b9a86080"
   }
  }
 },
 "nbformat": 4,
 "nbformat_minor": 5
}
