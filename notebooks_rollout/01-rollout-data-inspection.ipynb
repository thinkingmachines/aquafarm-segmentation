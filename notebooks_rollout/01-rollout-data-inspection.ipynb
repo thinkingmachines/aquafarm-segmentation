{
 "cells": [
  {
   "cell_type": "code",
   "execution_count": null,
   "id": "954aa33b",
   "metadata": {},
   "outputs": [],
   "source": [
    "%load_ext autoreload\n",
    "%autoreload 2\n",
    "\n",
    "import sys\n",
    "from pathlib import Path\n",
    "\n",
    "import lightning as L"
   ]
  },
  {
   "cell_type": "code",
   "execution_count": null,
   "id": "ce7cda2c",
   "metadata": {},
   "outputs": [],
   "source": [
    "sys.path.append(\"../\")  # include parent directory\n",
    "from src.pond_data import PondDataset, PondDataModule\n",
    "from src.config_utils import build_kwargs_from_config\n",
    "from src import pixel_stats"
   ]
  },
  {
   "cell_type": "markdown",
   "id": "9c7decee",
   "metadata": {},
   "source": [
    "## Rollout Data Inspection\n",
    "\n",
    "This notebook checks the geoTIFF files using the prebuilt Pytorch Lightning `Dataset` and `DataModule`\n",
    "\n",
    "## Input\n",
    "- Satellite Images (geoTIFF files)\n",
    "- Raster Masks (geoTIFF files)\n",
    "\n",
    "\n",
    "## Output\n",
    "- None"
   ]
  },
  {
   "cell_type": "markdown",
   "id": "a4c357b3",
   "metadata": {},
   "source": [
    "## Set up parameters from config yaml\n",
    "\n",
    "Feel free to edit the parameters here as well"
   ]
  },
  {
   "cell_type": "code",
   "execution_count": null,
   "id": "7e38068a",
   "metadata": {},
   "outputs": [],
   "source": [
    "DATA_PATH = Path(\"../data/\")\n",
    "CONFIG_PATH = Path(\"../config\")\n",
    "\n",
    "CONFIG_FPATH = CONFIG_PATH / \"rollout_pond_config.yaml\""
   ]
  },
  {
   "cell_type": "code",
   "execution_count": null,
   "id": "30f2c965",
   "metadata": {},
   "outputs": [],
   "source": [
    "kwargs_dict = build_kwargs_from_config(DATA_PATH, CONFIG_FPATH)"
   ]
  },
  {
   "cell_type": "code",
   "execution_count": null,
   "id": "8c40f8dc",
   "metadata": {},
   "outputs": [],
   "source": [
    "DATASET_KWARGS = kwargs_dict[\"dataset_kwargs\"]\n",
    "DATASET_KWARGS"
   ]
  },
  {
   "cell_type": "markdown",
   "id": "e187b980",
   "metadata": {},
   "source": [
    "## Setting up the Pytorch Dataset"
   ]
  },
  {
   "cell_type": "code",
   "execution_count": null,
   "id": "afa84b28",
   "metadata": {},
   "outputs": [],
   "source": [
    "%%time\n",
    "pond_dataset = PondDataset(**DATASET_KWARGS)\n",
    "pond_dataset"
   ]
  },
  {
   "cell_type": "code",
   "execution_count": null,
   "id": "03bd1b04",
   "metadata": {},
   "outputs": [],
   "source": [
    "# check labels\n",
    "pond_dataset.label_mapping"
   ]
  },
  {
   "cell_type": "code",
   "execution_count": null,
   "id": "2a9bcf2d",
   "metadata": {},
   "outputs": [],
   "source": [
    "# check a sample from the dataset\n",
    "i = 2\n",
    "pond_dataset[i]"
   ]
  },
  {
   "cell_type": "markdown",
   "id": "02e218f1",
   "metadata": {},
   "source": [
    "## Data Assessment\n",
    "\n",
    "We have a few methods in the Pytorch dataset to assess the data quality\n",
    "\n",
    "1. Getting the min max pixel values: this is to check if there are values are within the preset `MAX_IMG_VAL` within the `PondDataset` class.\n",
    "2. Getting the IDs of images that are all null: to check if there are erroneous images.\n",
    "3. Check if the IDs of the images match up to the IDs of the masks.\n",
    "4. Check the pixel dimensions of the images. Check how similar they are and which index the channels are.\n",
    "5. Plotting images and seeing if there are images that are fully black or have other anomalies."
   ]
  },
  {
   "cell_type": "code",
   "execution_count": null,
   "id": "f1cd72f2",
   "metadata": {},
   "outputs": [],
   "source": [
    "%%time\n",
    "stream = pond_dataset.img_mask_stream()\n",
    "channel_means, channel_stds = pixel_stats.get_mean_and_std_pixel_vals(stream)\n",
    "channel_means, channel_stds"
   ]
  },
  {
   "cell_type": "code",
   "execution_count": null,
   "id": "e53dfcb1",
   "metadata": {},
   "outputs": [],
   "source": [
    "%%time\n",
    "stream = pond_dataset.img_mask_stream()\n",
    "pixel_stats.get_null_data_ids(stream, null_pixel_val=pond_dataset.NODATA_VAL)"
   ]
  },
  {
   "cell_type": "code",
   "execution_count": null,
   "id": "769e3317",
   "metadata": {},
   "outputs": [],
   "source": [
    "%%time\n",
    "# pond_dataset.check_imgs_masks_same_ids()"
   ]
  },
  {
   "cell_type": "code",
   "execution_count": null,
   "id": "775cb4d3",
   "metadata": {
    "scrolled": true
   },
   "outputs": [],
   "source": [
    "%%time\n",
    "stream = pond_dataset.img_mask_stream()\n",
    "pixel_stats.get_img_unique_shapes(stream)"
   ]
  },
  {
   "cell_type": "code",
   "execution_count": null,
   "id": "b9a94428",
   "metadata": {},
   "outputs": [],
   "source": [
    "%%time\n",
    "stream = pond_dataset.img_mask_stream()\n",
    "pixel_stats.validate_image_dims_for_segmentation(stream)"
   ]
  },
  {
   "cell_type": "code",
   "execution_count": null,
   "id": "23e6bc48",
   "metadata": {},
   "outputs": [],
   "source": [
    "len(pond_dataset)"
   ]
  },
  {
   "cell_type": "code",
   "execution_count": null,
   "id": "9acf4828",
   "metadata": {
    "scrolled": true
   },
   "outputs": [],
   "source": [
    "i = 2\n",
    "pond_dataset.plot_img(i)"
   ]
  },
  {
   "cell_type": "code",
   "execution_count": null,
   "id": "8ae2ed0e",
   "metadata": {
    "scrolled": true
   },
   "outputs": [],
   "source": [
    "pond_dataset.plot_img_histogram(i)"
   ]
  },
  {
   "cell_type": "code",
   "execution_count": null,
   "id": "052456e3",
   "metadata": {},
   "outputs": [],
   "source": [
    "# for i in range(len(pond_dataset)):\n",
    "#     pond_dataset.plot_img_and_mask(i)\n",
    "#     pond_dataset.plot_img_histogram(i)"
   ]
  },
  {
   "cell_type": "code",
   "execution_count": null,
   "id": "8ee7cf72",
   "metadata": {},
   "outputs": [],
   "source": []
  }
 ],
 "metadata": {
  "environment": {
   "kernel": "nn",
   "name": "pytorch-gpu.1-13.m103",
   "type": "gcloud",
   "uri": "gcr.io/deeplearning-platform-release/pytorch-gpu.1-13:m103"
  },
  "kernelspec": {
   "display_name": "Python 3 (ipykernel)",
   "language": "python",
   "name": "python3"
  },
  "language_info": {
   "codemirror_mode": {
    "name": "ipython",
    "version": 3
   },
   "file_extension": ".py",
   "mimetype": "text/x-python",
   "name": "python",
   "nbconvert_exporter": "python",
   "pygments_lexer": "ipython3",
   "version": "3.9.15"
  }
 },
 "nbformat": 4,
 "nbformat_minor": 5
}
